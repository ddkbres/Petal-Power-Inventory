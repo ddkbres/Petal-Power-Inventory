{
 "cells": [
  {
   "cell_type": "code",
   "execution_count": 1,
   "id": "82753452",
   "metadata": {},
   "outputs": [
    {
     "name": "stdout",
     "output_type": "stream",
     "text": [
      "        location  product_type product_description  quantity  price  in_stock  \\\n",
      "0  Staten Island         seeds               daisy         4   6.99      True   \n",
      "1  Staten Island         seeds          calla lily        46  19.99      True   \n",
      "2  Staten Island         seeds              tomato        85  13.99      True   \n",
      "3  Staten Island  garden tools                rake         4  13.99      True   \n",
      "4  Staten Island  garden tools         wheelbarrow         0  89.99     False   \n",
      "\n",
      "   total_value_2            full_description  \n",
      "0          27.96               seeds - daisy  \n",
      "1         919.54          seeds - calla lily  \n",
      "2        1189.15              seeds - tomato  \n",
      "3          55.96         garden tools - rake  \n",
      "4           0.00  garden tools - wheelbarrow  \n"
     ]
    }
   ],
   "source": [
    "#import codecademylib\n",
    "import numpy as np\n",
    "import pandas as pd\n",
    "\n",
    "inventory = pd.read_csv('inventory.csv')\n",
    "#print(inventory.head(10))\n",
    "\n",
    "staten_island = inventory[:10]\n",
    "#print(staten_island)\n",
    "\n",
    "product_report = staten_island.product_description\n",
    "#print(product_report)\n",
    "\n",
    "seed_request = inventory[(inventory.location == 'Brooklyn') & (inventory.product_type == 'seeds')]\n",
    "\n",
    "inventory['in_stock'] = inventory.apply(lambda row: True if row.quantity > 0 else False, axis =1)\n",
    "\n",
    "inventory['total_value_2'] = inventory.apply(lambda row: row.price * row.quantity, axis =1)\n",
    "#print(inventory.total_value_2.head(5))\n",
    "\n",
    "combine_lambda = lambda row: \\\n",
    "    '{} - {}'.format(row.product_type,\n",
    "                     row.product_description)\n",
    "\n",
    "inventory['full_description'] = inventory.apply(combine_lambda, axis = 1)\n",
    "\n",
    "print(inventory.head(5))"
   ]
  },
  {
   "cell_type": "code",
   "execution_count": null,
   "id": "ec3189df",
   "metadata": {},
   "outputs": [],
   "source": []
  }
 ],
 "metadata": {
  "kernelspec": {
   "display_name": "Python 3",
   "language": "python",
   "name": "python3"
  },
  "language_info": {
   "codemirror_mode": {
    "name": "ipython",
    "version": 3
   },
   "file_extension": ".py",
   "mimetype": "text/x-python",
   "name": "python",
   "nbconvert_exporter": "python",
   "pygments_lexer": "ipython3",
   "version": "3.8.8"
  }
 },
 "nbformat": 4,
 "nbformat_minor": 5
}
